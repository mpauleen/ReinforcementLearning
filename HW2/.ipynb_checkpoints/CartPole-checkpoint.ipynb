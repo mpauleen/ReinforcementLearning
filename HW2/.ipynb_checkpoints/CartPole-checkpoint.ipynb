{
 "cells": [
  {
   "cell_type": "markdown",
   "metadata": {},
   "source": [
    "## Cartpole\n",
    "### Michael Pauleen"
   ]
  },
  {
   "cell_type": "code",
   "execution_count": 2,
   "metadata": {},
   "outputs": [],
   "source": [
    "import gym\n",
    "import gym.spaces\n",
    "import matplotlib.pyplot as plt\n",
    "import numpy as np\n",
    "import tensorflow as tf"
   ]
  },
  {
   "cell_type": "code",
   "execution_count": 3,
   "metadata": {
    "collapsed": true
   },
   "outputs": [],
   "source": [
    "%matplotlib inline"
   ]
  },
  {
   "cell_type": "code",
   "execution_count": 4,
   "metadata": {
    "collapsed": true
   },
   "outputs": [],
   "source": [
    "env = gym.make('CartPole-v0')\n",
    "obs = env.reset()\n",
    "n_actions = env.action_space.n\n",
    "gamma = 0.95"
   ]
  },
  {
   "cell_type": "code",
   "execution_count": 10,
   "metadata": {
    "collapsed": true
   },
   "outputs": [],
   "source": [
    "state_size = len(obs)\n",
    "\n",
    "max_episodes = 10000\n",
    "learning_rate = 0.01\n",
    "\n",
    "n_hidden = 10\n"
   ]
  },
  {
   "cell_type": "code",
   "execution_count": 6,
   "metadata": {
    "collapsed": true
   },
   "outputs": [],
   "source": [
    "def normalize_reward(r):\n",
    "    discounted =[0]*len(r)\n",
    "    cumulative = 0.0\n",
    "    for i in reversed(range(len(r))):\n",
    "        cumulative = cumulative * gamma + r[i]\n",
    "        discounted[i] = cumulative\n",
    "    mean = np.mean(discounted)\n",
    "    std = np.std(discounted)\n",
    "    discounted = (discounted - mean)/std\n",
    "    return discounted"
   ]
  },
  {
   "cell_type": "code",
   "execution_count": 7,
   "metadata": {
    "collapsed": true
   },
   "outputs": [],
   "source": [
    "def preprocess(image):\n",
    "    \"\"\" prepro 210x160x3 uint8 frame into 6400 (80x80) 2D float array \"\"\"\n",
    "    image = image[35:195] # crop\n",
    "    image = image[::2,::2,0] # downsample by factor of 2\n",
    "    image[image == 144] = 0 # erase background (background type 1)\n",
    "    image[image == 109] = 0 # erase background (background type 2)\n",
    "    image[image != 0] = 1 # everything else (paddles, ball) just set to 1\n",
    "    return np.reshape(image.astype(np.float).ravel(), [80,80])"
   ]
  },
  {
   "cell_type": "markdown",
   "metadata": {},
   "source": [
    "## Construct NN "
   ]
  },
  {
   "cell_type": "code",
   "execution_count": 8,
   "metadata": {
    "collapsed": true
   },
   "outputs": [],
   "source": [
    "tf.reset_default_graph()\n",
    "\n",
    "input_state = tf.placeholder(tf.float32, shape=(None, state_size), name=\"input_state\")\n",
    "action_ = tf.placeholder(tf.int32, shape=(None), name=\"action\")\n",
    "reward_ = tf.placeholder(tf.float32, shape=(None), name = 'reward')\n",
    "\n",
    "with tf.name_scope(\"dnn\"):\n",
    "    hidden1 = tf.layers.dense(input_state, n_hidden, name=\"hidden1\",\n",
    "                              activation=tf.nn.relu, kernel_initializer = tf.contrib.layers.xavier_initializer())\n",
    "\n",
    "    hidden2 = tf.layers.dense(hidden1, n_hidden, name=\"hidden2\",\n",
    "                              activation=tf.nn.relu,\n",
    "                             kernel_initializer = tf.contrib.layers.xavier_initializer())\n",
    "\n",
    "    logits = tf.layers.dense(hidden2, n_actions, name=\"outputs\")\n",
    "    y_proba = tf.nn.softmax(logits)\n",
    "\n",
    "\n",
    "with tf.name_scope(\"loss\"):\n",
    "    xentropy = tf.nn.sparse_softmax_cross_entropy_with_logits(labels=action_, logits=logits) #for this fucntion you do not need to use one hot endcoding\n",
    "    loss = tf.reduce_mean(xentropy*reward_, name=\"loss\")\n",
    "\n",
    "\n",
    "with tf.name_scope(\"train\"):\n",
    "    optimizer = tf.train.GradientDescentOptimizer(learning_rate)\n",
    "    training_op = optimizer.minimize(loss)\n"
   ]
  },
  {
   "cell_type": "code",
   "execution_count": 9,
   "metadata": {},
   "outputs": [
    {
     "name": "stderr",
     "output_type": "stream",
     "text": [
      "/Users/michaelpauleen/miniconda3/lib/python3.6/site-packages/numpy/core/fromnumeric.py:2957: RuntimeWarning: Mean of empty slice.\n",
      "  out=out, **kwargs)\n",
      "/Users/michaelpauleen/miniconda3/lib/python3.6/site-packages/numpy/core/_methods.py:80: RuntimeWarning: invalid value encountered in double_scalars\n",
      "  ret = ret.dtype.type(ret / rcount)\n"
     ]
    },
    {
     "name": "stdout",
     "output_type": "stream",
     "text": [
      "Episode: 0 , Reward: nan Max Reward: 10.0\n",
      "Episode: 500 , Reward: 28.79 Max Reward: 104.0\n",
      "Episode: 1000 , Reward: 39.7 Max Reward: 171.0\n",
      "Episode: 1500 , Reward: 48.74 Max Reward: 177.0\n",
      "Episode: 2000 , Reward: 48.78 Max Reward: 200.0\n",
      "Episode: 2500 , Reward: 70.85 Max Reward: 200.0\n",
      "Episode: 3000 , Reward: 75.89 Max Reward: 200.0\n",
      "Episode: 3500 , Reward: 139.1 Max Reward: 200.0\n",
      "Episode: 4000 , Reward: 165.85 Max Reward: 200.0\n",
      "Episode: 4500 , Reward: 180.59 Max Reward: 200.0\n",
      "Episode: 5000 , Reward: 177.29 Max Reward: 200.0\n",
      "Episode: 5500 , Reward: 187.6 Max Reward: 200.0\n",
      "Episode: 6000 , Reward: 190.81 Max Reward: 200.0\n",
      "Episode: 6500 , Reward: 187.98 Max Reward: 200.0\n",
      "Episode: 7000 , Reward: 172.66 Max Reward: 200.0\n",
      "Episode: 7500 , Reward: 179.45 Max Reward: 200.0\n",
      "Episode: 8000 , Reward: 182.26 Max Reward: 200.0\n",
      "Episode: 8500 , Reward: 190.08 Max Reward: 200.0\n",
      "Episode: 9000 , Reward: 174.33 Max Reward: 200.0\n",
      "Episode: 9500 , Reward: 172.98 Max Reward: 200.0\n"
     ]
    }
   ],
   "source": [
    "all_rewards = []\n",
    "running_mean = []\n",
    "saver = tf.train.Saver()\n",
    "with tf.Session() as sess:\n",
    "    sess.run(tf.global_variables_initializer())\n",
    "    for i in range(max_episodes):\n",
    "\n",
    "        #initialize lists to keep track of rewards, states and actions\n",
    "        r = []\n",
    "        observations =[]\n",
    "        actions =[]\n",
    "\n",
    "        state = env.reset() # initialize the game by resetting. we assign the initial state to variable state. Every time the game finishes you need to reset the game.\n",
    "\n",
    "        while True:\n",
    "            action_probabilities = sess.run(y_proba, feed_dict={input_state: state.reshape([1,4])})\n",
    "            action = np.random.choice(range(n_actions), p=action_probabilities.ravel()) #choose random action\n",
    "            next_state, reward, done, info = env.step(action) #take the actions and see the next state, reward, if the game is finished or not and some info about the game.\n",
    "            #keep track of rewards, states and actions\n",
    "            r.append(reward)\n",
    "            observations.append(state)\n",
    "            actions.append(action)\n",
    "            \n",
    "            if done:\n",
    "                normalized_reward = normalize_reward(r)\n",
    "                loss_, _ = sess.run([loss, training_op], feed_dict={input_state: np.vstack(np.array(observations)),\n",
    "                                                                 action_: actions,\n",
    "                                                                 reward_: normalized_reward\n",
    "                                                                })\n",
    "                break\n",
    "            state = next_state #assign next_state to state\n",
    "\n",
    "        episode_reward = sum(r)\n",
    "        all_rewards.append(episode_reward)\n",
    "        last_hundred = all_rewards[i-100:i]\n",
    "        running_mean.append(np.mean(last_hundred))\n",
    "        if np.mean(last_hundred) >= 195:\n",
    "            saver.save(sess, \"./cartpole-model.ckpt\")\n",
    "            print(\"Episode:\", i,\", Reward:\", np.mean(all_rewards[i-100:i]), \"Max Reward:\", max(all_rewards))\n",
    "            break\n",
    "        if i%500 == 0:\n",
    "            print(\"Episode:\", i,\", Reward:\", np.mean(all_rewards[i-100:i]), \"Max Reward:\", max(all_rewards))"
   ]
  },
  {
   "cell_type": "code",
   "execution_count": 12,
   "metadata": {},
   "outputs": [
    {
     "data": {
      "text/plain": [
       "[<matplotlib.lines.Line2D at 0x120b4ec18>,\n",
       " <matplotlib.lines.Line2D at 0x120b4ed68>]"
      ]
     },
     "execution_count": 12,
     "metadata": {},
     "output_type": "execute_result"
    },
    {
     "data": {
      "image/png": "[encoded data removed]",
      "text/plain": [
       "<Figure size 432x288 with 1 Axes>"
      ]
     },
     "metadata": {
      "needs_background": "light"
     },
     "output_type": "display_data"
    }
   ],
   "source": [
    "plt.plot(range(len(all_rewards)), all_rewards, range(len(all_rewards)), running_mean)"
   ]
  },
  {
   "cell_type": "code",
   "execution_count": null,
   "metadata": {
    "collapsed": true
   },
   "outputs": [],
   "source": []
  }
 ],
 "metadata": {
  "kernelspec": {
   "display_name": "Python 3",
   "language": "python",
   "name": "python3"
  },
  "language_info": {
   "codemirror_mode": {
    "name": "ipython",
    "version": 3
   },
   "file_extension": ".py",
   "mimetype": "text/x-python",
   "name": "python",
   "nbconvert_exporter": "python",
   "pygments_lexer": "ipython3",
   "version": "3.6.4"
  }
 },
 "nbformat": 4,
 "nbformat_minor": 2
}
