{
 "cells": [
  {
   "cell_type": "code",
   "execution_count": 1,
   "metadata": {},
   "outputs": [],
   "source": [
    "import numpy as np\n",
    "import itertools\n",
    "import time\n",
    "import multiprocessing\n",
    "from multiprocessing import Process, Manager\n",
    "\n",
    "import matplotlib.pyplot as plt"
   ]
  },
  {
   "cell_type": "code",
   "execution_count": 2,
   "metadata": {},
   "outputs": [
    {
     "data": {
      "text/plain": [
       "24"
      ]
     },
     "execution_count": 2,
     "metadata": {},
     "output_type": "execute_result"
    }
   ],
   "source": [
    "multiprocessing.cpu_count()"
   ]
  },
  {
   "cell_type": "code",
   "execution_count": 3,
   "metadata": {},
   "outputs": [],
   "source": [
    "k = 30\n",
    "env = [1,2,3,4,5]\n",
    "c_f = 100\n",
    "c_h = [1, 1.5, 2, 2.5, 3]\n",
    "y = 0.95\n",
    "\n",
    "A = [0,1]"
   ]
  },
  {
   "cell_type": "code",
   "execution_count": 4,
   "metadata": {
    "collapsed": true
   },
   "outputs": [],
   "source": [
    "def get_arrival_configs(c_h, env):\n",
    "    arr = {x: env for x in c_h}\n",
    "    keys, values = zip(*arr.items())\n",
    "    arrival_permutations = [dict(zip(keys, v)) for v in itertools.product(*values)]\n",
    "    return arrival_permutations\n",
    "\n",
    "arrival_configs = get_arrival_configs(c_h, env)"
   ]
  },
  {
   "cell_type": "code",
   "execution_count": 5,
   "metadata": {
    "collapsed": true
   },
   "outputs": [],
   "source": [
    "def process_arrival(s, cap, arrival_config):\n",
    "    for c_h in s.keys():\n",
    "        s[c_h] = min(cap, s[c_h]+arrival_config[c_h])"
   ]
  },
  {
   "cell_type": "code",
   "execution_count": 6,
   "metadata": {
    "collapsed": true
   },
   "outputs": [],
   "source": [
    "def load(s, k):\n",
    "    loaded_s = s.copy()\n",
    "    classes = sorted(loaded_s.keys(), reverse = True)\n",
    "    for c_h in classes:\n",
    "        num_to_load = min(loaded_s[c_h], k)\n",
    "        loaded_s[c_h] = loaded_s[c_h]-num_to_load\n",
    "        k = k-num_to_load\n",
    "        if k == 0:\n",
    "            break\n",
    "    return loaded_s"
   ]
  },
  {
   "cell_type": "code",
   "execution_count": 7,
   "metadata": {
    "collapsed": true
   },
   "outputs": [],
   "source": [
    "def get_next_state(s, a, k, cap, arrival_config):\n",
    "    s_prime = s.copy()\n",
    "    process_arrival(s_prime, cap, arrival_config)\n",
    "    if a == 1:\n",
    "        load(s_prime,k)\n",
    "    return s_prime"
   ]
  },
  {
   "cell_type": "code",
   "execution_count": 8,
   "metadata": {
    "collapsed": true
   },
   "outputs": [],
   "source": [
    "def waiting_cost(s):\n",
    "    cost_by_class = [k*v for (k,v)in s.items()]\n",
    "    total_cost = sum(cost_by_class)\n",
    "    return total_cost"
   ]
  },
  {
   "cell_type": "code",
   "execution_count": 9,
   "metadata": {},
   "outputs": [],
   "source": [
    "def reward(s, a, c_f, k):\n",
    "    # if a=0 (don't send)\n",
    "    cost = 0\n",
    "    if a == 0:\n",
    "        cost = waiting_cost(s)\n",
    "    else:\n",
    "        loaded_s = load(s, k)\n",
    "        cost = c_f + waiting_cost(loaded_s)\n",
    "    return -cost"
   ]
  },
  {
   "cell_type": "code",
   "execution_count": 10,
   "metadata": {},
   "outputs": [],
   "source": [
    "def getEV(s, a, k, cap, arrival_configs, V_t1):\n",
    "    states = [tuple(get_next_state(s, a, k, cap, e).values()) for e in arrival_configs]\n",
    "    values = [V_t1[s]*1/len(states) for s in states]\n",
    "    ev = sum(values)\n",
    "    return ev"
   ]
  },
  {
   "cell_type": "code",
   "execution_count": 11,
   "metadata": {
    "collapsed": true
   },
   "outputs": [],
   "source": [
    "def update(V_t, states):\n",
    "    results = dict()\n",
    "    for s in states:\n",
    "        s_tuple = tuple(s.values())\n",
    "        results[s_tuple] = max([reward(s, a, c_f, k) + \\\n",
    "            y * getEV(s, a, k, cap, arrival_configs, V_t1) for a in A])\n",
    "    V_t.update(results)"
   ]
  },
  {
   "cell_type": "markdown",
   "metadata": {},
   "source": [
    "# Enumeration"
   ]
  },
  {
   "cell_type": "code",
   "execution_count": 12,
   "metadata": {},
   "outputs": [],
   "source": [
    "cap = 2\n",
    "S = {x: range(0,cap+1) for x in c_h}"
   ]
  },
  {
   "cell_type": "code",
   "execution_count": 13,
   "metadata": {},
   "outputs": [],
   "source": [
    "keys, values = zip(*S.items())\n",
    "states = [dict(zip(keys, v)) for v in itertools.product(*values)]\n",
    "\n",
    "manager = Manager()\n",
    "V_t1 = {tuple(s.values()):0 for s in states}\n",
    "V_t = manager.dict(V_t1.copy())"
   ]
  },
  {
   "cell_type": "code",
   "execution_count": 14,
   "metadata": {},
   "outputs": [
    {
     "name": "stdout",
     "output_type": "stream",
     "text": [
      "Epoch 500 completed in 0.58 seconds\n",
      "Epoch 475 completed in 0.65 seconds\n",
      "Epoch 450 completed in 0.57 seconds\n",
      "Epoch 425 completed in 0.58 seconds\n",
      "Epoch 400 completed in 0.57 seconds\n",
      "Epoch 375 completed in 0.57 seconds\n",
      "Epoch 350 completed in 0.58 seconds\n",
      "Epoch 325 completed in 0.57 seconds\n",
      "Epoch 300 completed in 0.57 seconds\n",
      "Epoch 275 completed in 0.69 seconds\n",
      "Epoch 250 completed in 0.57 seconds\n",
      "Epoch 225 completed in 0.58 seconds\n",
      "Epoch 200 completed in 0.57 seconds\n",
      "Epoch 175 completed in 0.57 seconds\n",
      "Epoch 150 completed in 0.86 seconds\n",
      "Epoch 125 completed in 0.58 seconds\n",
      "Epoch 100 completed in 0.57 seconds\n",
      "Epoch 75 completed in 0.57 seconds\n",
      "Epoch 50 completed in 0.58 seconds\n",
      "Epoch 25 completed in 0.57 seconds\n",
      "Epoch 0 completed in 0.58 seconds\n",
      "Finished in 292.10 seconds\n"
     ]
    }
   ],
   "source": [
    "n_chunks = 16\n",
    "start_time = time.time()\n",
    "for t in range(500,-1,-1):\n",
    "    epoch_start = time.time()\n",
    "    state_chunks = np.array_split(states, n_chunks)\n",
    "    job = [Process(target=update, args=(V_t, state_chunks[i])) for i in range(0,n_chunks)]\n",
    "    _ = [p.start() for p in job]\n",
    "    _ = [p.join() for p in job]\n",
    "    V_t1 = V_t.copy()\n",
    "    if t % 25 == 0:\n",
    "        print(\"Epoch {0} completed in {1:0.2f} seconds\".format(t, time.time()-epoch_start))\n",
    "print(\"Finished in {0:0.2f} seconds\".format(time.time()-start_time))"
   ]
  },
  {
   "cell_type": "code",
   "execution_count": 15,
   "metadata": {},
   "outputs": [
    {
     "data": {
      "text/plain": [
       "Text(0,0.5,'Value')"
      ]
     },
     "execution_count": 15,
     "metadata": {},
     "output_type": "execute_result"
    },
    {
     "data": {
      "image/png": "[encoded data removed]",
      "text/plain": [
       "<Figure size 432x288 with 1 Axes>"
      ]
     },
     "metadata": {},
     "output_type": "display_data"
    }
   ],
   "source": [
    "result = []\n",
    "for i in range(cap+1):\n",
    "    result.append(V_t[(0,0,0,0,i)])\n",
    "\n",
    "plt.plot(range(cap+1), result)\n",
    "plt.title(\"Enumeration, (Capacity 2)\")\n",
    "plt.xlabel(\"State\")\n",
    "plt.ylabel(\"Value\")"
   ]
  },
  {
   "cell_type": "markdown",
   "metadata": {},
   "source": [
    "# Value Iteration"
   ]
  },
  {
   "cell_type": "markdown",
   "metadata": {},
   "source": [
    "## Station Capacity: 2"
   ]
  },
  {
   "cell_type": "code",
   "execution_count": 16,
   "metadata": {},
   "outputs": [],
   "source": [
    "cap = 2\n",
    "S = {x: range(0,cap+1) for x in c_h}"
   ]
  },
  {
   "cell_type": "code",
   "execution_count": 17,
   "metadata": {},
   "outputs": [],
   "source": [
    "keys, values = zip(*S.items())\n",
    "states = [dict(zip(keys, v)) for v in itertools.product(*values)]\n",
    "\n",
    "manager = Manager()\n",
    "V_t1 = {tuple(s.values()):0 for s in states}\n",
    "V_t = manager.dict(V_t1.copy())"
   ]
  },
  {
   "cell_type": "code",
   "execution_count": 18,
   "metadata": {},
   "outputs": [
    {
     "name": "stdout",
     "output_type": "stream",
     "text": [
      "Epoch: 10, Delta: 1.26E+01, Epoch Time (s): 0.61\n",
      "Epoch: 20, Delta: 7.55E+00, Epoch Time (s): 0.54\n",
      "Epoch: 30, Delta: 4.52E+00, Epoch Time (s): 0.55\n",
      "Epoch: 40, Delta: 2.71E+00, Epoch Time (s): 0.54\n",
      "Epoch: 50, Delta: 1.62E+00, Epoch Time (s): 0.54\n",
      "Epoch: 60, Delta: 9.70E-01, Epoch Time (s): 0.55\n",
      "Epoch: 70, Delta: 5.81E-01, Epoch Time (s): 0.54\n",
      "Epoch: 80, Delta: 3.48E-01, Epoch Time (s): 0.54\n",
      "Epoch: 90, Delta: 2.08E-01, Epoch Time (s): 0.54\n",
      "Epoch: 100, Delta: 1.25E-01, Epoch Time (s): 0.54\n",
      "Epoch: 110, Delta: 7.46E-02, Epoch Time (s): 0.55\n",
      "Epoch: 120, Delta: 4.47E-02, Epoch Time (s): 0.55\n",
      "Epoch: 130, Delta: 2.68E-02, Epoch Time (s): 0.55\n",
      "Epoch: 140, Delta: 1.60E-02, Epoch Time (s): 0.55\n",
      "Epoch: 150, Delta: 9.59E-03, Epoch Time (s): 0.95\n",
      "Epoch: 160, Delta: 5.74E-03, Epoch Time (s): 0.54\n",
      "Epoch: 170, Delta: 3.44E-03, Epoch Time (s): 0.62\n",
      "Epoch: 180, Delta: 2.06E-03, Epoch Time (s): 0.54\n",
      "Epoch: 190, Delta: 1.23E-03, Epoch Time (s): 0.55\n",
      "Finished in 195 epochs and 111.48 seconds\n"
     ]
    }
   ],
   "source": [
    "start_time = time.time()\n",
    "theta = 1e-3\n",
    "delta = 1e6 \n",
    "n_chunks = 16\n",
    "epoch = 0 \n",
    "while delta > theta:\n",
    "    epoch += 1\n",
    "    epoch_start = time.time()\n",
    "    V_t1 = V_t.copy()\n",
    "    state_chunks = np.array_split(states, n_chunks)\n",
    "    job = [Process(target=update, args=(V_t, state_chunks[i])) for i in range(0,n_chunks)]\n",
    "    _ = [p.start() for p in job]\n",
    "    _ = [p.join() for p in job]\n",
    "    delta = min(delta, max([V_t1[s]-V_t[s] for s in V_t.keys()]))\n",
    "    if epoch % 10 == 0:\n",
    "        print(\"Epoch: {0}, Delta: {1:.2E}, Epoch Time (s): {2:.2f}\".format(epoch, delta, time.time()-epoch_start))\n",
    "    \n",
    "print(\"Finished in {0} epochs and {1:.2f} seconds\".format(epoch, time.time()-start_time))"
   ]
  },
  {
   "cell_type": "code",
   "execution_count": 19,
   "metadata": {},
   "outputs": [],
   "source": [
    "result = []\n",
    "for i in range(cap+1):\n",
    "    result.append(V_t[(0,0,0,0,i)])"
   ]
  },
  {
   "cell_type": "code",
   "execution_count": 20,
   "metadata": {},
   "outputs": [
    {
     "data": {
      "text/plain": [
       "Text(0,0.5,'Value')"
      ]
     },
     "execution_count": 20,
     "metadata": {},
     "output_type": "execute_result"
    },
    {
     "data": {
      "image/png": "[encoded data removed]",
      "text/plain": [
       "<Figure size 432x288 with 1 Axes>"
      ]
     },
     "metadata": {},
     "output_type": "display_data"
    }
   ],
   "source": [
    "plt.plot(range(cap+1), result)\n",
    "plt.title(\"Value Iteration, (Capacity 2)\")\n",
    "plt.xlabel(\"State\")\n",
    "plt.ylabel(\"Value\")"
   ]
  },
  {
   "cell_type": "markdown",
   "metadata": {},
   "source": [
    "## Station Capacity: 3"
   ]
  },
  {
   "cell_type": "code",
   "execution_count": 28,
   "metadata": {},
   "outputs": [],
   "source": [
    "cap = 3\n",
    "S = {x: range(0,cap+1) for x in c_h}"
   ]
  },
  {
   "cell_type": "code",
   "execution_count": 29,
   "metadata": {},
   "outputs": [],
   "source": [
    "keys, values = zip(*S.items())\n",
    "states = [dict(zip(keys, v)) for v in itertools.product(*values)]\n",
    "\n",
    "manager = Manager()\n",
    "V_t1 = {tuple(s.values()):0 for s in states}\n",
    "V_t = manager.dict(V_t1.copy())"
   ]
  },
  {
   "cell_type": "code",
   "execution_count": 30,
   "metadata": {},
   "outputs": [
    {
     "name": "stdout",
     "output_type": "stream",
     "text": [
      "Epoch: 10, Delta: 1.89E+01, Epoch Time (s): 2.13\n",
      "Epoch: 20, Delta: 1.13E+01, Epoch Time (s): 2.12\n",
      "Epoch: 30, Delta: 6.78E+00, Epoch Time (s): 2.12\n",
      "Epoch: 40, Delta: 4.06E+00, Epoch Time (s): 2.12\n",
      "Epoch: 50, Delta: 2.43E+00, Epoch Time (s): 2.20\n",
      "Epoch: 60, Delta: 1.45E+00, Epoch Time (s): 2.13\n",
      "Epoch: 70, Delta: 8.71E-01, Epoch Time (s): 2.91\n",
      "Epoch: 80, Delta: 5.22E-01, Epoch Time (s): 2.47\n",
      "Epoch: 90, Delta: 3.12E-01, Epoch Time (s): 2.15\n",
      "Epoch: 100, Delta: 1.87E-01, Epoch Time (s): 2.44\n",
      "Epoch: 110, Delta: 1.12E-01, Epoch Time (s): 2.15\n",
      "Epoch: 120, Delta: 6.70E-02, Epoch Time (s): 2.14\n",
      "Epoch: 130, Delta: 4.01E-02, Epoch Time (s): 2.16\n",
      "Epoch: 140, Delta: 2.40E-02, Epoch Time (s): 2.14\n",
      "Epoch: 150, Delta: 1.44E-02, Epoch Time (s): 2.13\n",
      "Epoch: 160, Delta: 8.61E-03, Epoch Time (s): 2.12\n",
      "Epoch: 170, Delta: 5.16E-03, Epoch Time (s): 2.14\n",
      "Epoch: 180, Delta: 3.09E-03, Epoch Time (s): 2.14\n",
      "Epoch: 190, Delta: 1.85E-03, Epoch Time (s): 2.17\n",
      "Epoch: 200, Delta: 1.11E-03, Epoch Time (s): 2.13\n",
      "Finished in 202 epochs and 441.66 seconds\n"
     ]
    }
   ],
   "source": [
    "start_time = time.time()\n",
    "theta = 1e-3\n",
    "delta = 1e6 \n",
    "n_chunks = 16\n",
    "epoch = 0 \n",
    "while delta > theta:\n",
    "    epoch += 1\n",
    "    epoch_start = time.time()\n",
    "    V_t1 = V_t.copy()\n",
    "    state_chunks = np.array_split(states, n_chunks)\n",
    "    job = [Process(target=update, args=(V_t, state_chunks[i])) for i in range(0,n_chunks)]\n",
    "    _ = [p.start() for p in job]\n",
    "    _ = [p.join() for p in job]\n",
    "    delta = min(delta, max([V_t1[s]-V_t[s] for s in V_t.keys()]))\n",
    "    if epoch % 10 == 0:\n",
    "        print(\"Epoch: {0}, Delta: {1:.2E}, Epoch Time (s): {2:.2f}\".format(epoch, delta, time.time()-epoch_start))\n",
    "    \n",
    "print(\"Finished in {0} epochs and {1:.2f} seconds\".format(epoch, time.time()-start_time))"
   ]
  },
  {
   "cell_type": "code",
   "execution_count": 31,
   "metadata": {},
   "outputs": [],
   "source": [
    "result = []\n",
    "for i in range(cap+1):\n",
    "    result.append(V_t[(0,0,0,0,i)])"
   ]
  },
  {
   "cell_type": "code",
   "execution_count": 32,
   "metadata": {},
   "outputs": [
    {
     "data": {
      "text/plain": [
       "Text(0,0.5,'Value')"
      ]
     },
     "execution_count": 32,
     "metadata": {},
     "output_type": "execute_result"
    },
    {
     "data": {
      "image/png": "[encoded data removed]",
      "text/plain": [
       "<Figure size 432x288 with 1 Axes>"
      ]
     },
     "metadata": {},
     "output_type": "display_data"
    }
   ],
   "source": [
    "plt.plot(range(cap+1), result)\n",
    "plt.title(\"Value Iteration, (Capacity 3)\")\n",
    "plt.xlabel(\"State\")\n",
    "plt.ylabel(\"Value\")"
   ]
  },
  {
   "cell_type": "markdown",
   "metadata": {},
   "source": [
    "# Policy Iteration"
   ]
  },
  {
   "cell_type": "code",
   "execution_count": 33,
   "metadata": {},
   "outputs": [],
   "source": [
    "def policy_update(V_t, states, policy):\n",
    "    values = dict()\n",
    "    results = dict()\n",
    "    results_bestval = dict()\n",
    "    for s in states:\n",
    "        s_tuple = tuple(s.values())\n",
    "        values[s_tuple] = [reward(s, a, c_f, k) + \\\n",
    "            y * getEV(s, a, k, cap, arrival_configs, V_t1) for a in A]\n",
    "        results[s_tuple] = values[s_tuple][policy[s_tuple]]\n",
    "        results_bestval[s_tuple] = np.argmax(values)\n",
    "    V_t.update(results)\n",
    "    best_values.update(results_bestval)"
   ]
  },
  {
   "cell_type": "code",
   "execution_count": 34,
   "metadata": {},
   "outputs": [],
   "source": [
    "best_values = {s: None for s in S}"
   ]
  },
  {
   "cell_type": "code",
   "execution_count": 35,
   "metadata": {},
   "outputs": [],
   "source": [
    "cap = 2\n",
    "S = {x: range(0,cap+1) for x in c_h}"
   ]
  },
  {
   "cell_type": "code",
   "execution_count": 36,
   "metadata": {},
   "outputs": [],
   "source": [
    "keys, values = zip(*S.items())\n",
    "states = [dict(zip(keys, v)) for v in itertools.product(*values)]\n",
    "\n",
    "manager = Manager()\n",
    "V_t1 = {tuple(s.values()):0 for s in states}\n",
    "V_t = manager.dict(V_t1.copy())\n",
    "\n",
    "best_values = manager.dict({tuple(s.values()):None for s in states})\n",
    "\n",
    "policy = {tuple(s.values()): np.random.randint(2) for s in states}\n",
    "policy_1 = {tuple(s.values()): np.random.randint(2) for s in states}\n"
   ]
  },
  {
   "cell_type": "code",
   "execution_count": 37,
   "metadata": {},
   "outputs": [
    {
     "name": "stdout",
     "output_type": "stream",
     "text": [
      "Policy Iteration: 1\n",
      "\t Epoch: 20, Delta: 7.55E+00, Epoch Time (s): 0.55\n",
      "\t Epoch: 40, Delta: 2.71E+00, Epoch Time (s): 0.55\n",
      "\t Epoch: 60, Delta: 9.70E-01, Epoch Time (s): 0.55\n",
      "\t Epoch: 80, Delta: 3.48E-01, Epoch Time (s): 0.55\n",
      "\t Epoch: 100, Delta: 1.25E-01, Epoch Time (s): 0.55\n",
      "\t Epoch: 120, Delta: 4.47E-02, Epoch Time (s): 0.55\n",
      "\t Epoch: 140, Delta: 1.60E-02, Epoch Time (s): 0.54\n",
      "\t Epoch: 160, Delta: 5.74E-03, Epoch Time (s): 0.54\n",
      "\t Epoch: 180, Delta: 2.06E-03, Epoch Time (s): 0.55\n",
      "Policy Iteration 1 completed in 108.75 seconds\n",
      "Policy Iteration: 2\n",
      "\t Epoch: 200, Delta: 1.63E+01, Epoch Time (s): 0.55\n",
      "\t Epoch: 220, Delta: 5.84E+00, Epoch Time (s): 0.55\n",
      "\t Epoch: 240, Delta: 2.09E+00, Epoch Time (s): 0.56\n",
      "\t Epoch: 260, Delta: 7.50E-01, Epoch Time (s): 0.54\n",
      "\t Epoch: 280, Delta: 2.69E-01, Epoch Time (s): 0.54\n",
      "\t Epoch: 300, Delta: 9.64E-02, Epoch Time (s): 0.69\n",
      "\t Epoch: 320, Delta: 3.46E-02, Epoch Time (s): 0.55\n",
      "\t Epoch: 340, Delta: 1.24E-02, Epoch Time (s): 0.55\n",
      "\t Epoch: 360, Delta: 4.44E-03, Epoch Time (s): 0.73\n",
      "\t Epoch: 380, Delta: 1.59E-03, Epoch Time (s): 0.55\n",
      "Policy Iteration 2 completed in 109.08 seconds\n",
      "Finished in 2 policy iterations and 217.83 seconds\n"
     ]
    }
   ],
   "source": [
    "start_time = time.time()\n",
    "theta = 1e-3\n",
    "n_chunks = 16\n",
    "epoch = 0\n",
    "policy_num = 0\n",
    "while True:\n",
    "    \n",
    "    policy_start = time.time()\n",
    "    policy_num += 1\n",
    "    delta = 1e6 \n",
    "    \n",
    "    print(\"Policy Iteration: {}\".format(policy_num))\n",
    "    \n",
    "    V_t1 = {tuple(s.values()):0 for s in states}\n",
    "    V_t = manager.dict(V_t1.copy())\n",
    "\n",
    "    while delta > theta:\n",
    "        epoch += 1\n",
    "        epoch_start = time.time()\n",
    "        V_t1 = V_t.copy()\n",
    "        state_chunks = np.array_split(states, n_chunks)\n",
    "        job = [Process(target=policy_update, args=(V_t, state_chunks[i], policy)) for i in range(0,n_chunks)]\n",
    "        _ = [p.start() for p in job]\n",
    "        _ = [p.join() for p in job]\n",
    "        delta = min(delta, max([V_t1[s]-V_t[s] for s in V_t.keys()]))\n",
    "        if epoch % 20 == 0:\n",
    "            print(\"\\t Epoch: {0}, Delta: {1:.2E}, Epoch Time (s): {2:.2f}\".format(epoch, delta, time.time()-epoch_start))\n",
    "    \n",
    "    policy_1 = best_values.copy()\n",
    "    \n",
    "    print(\"Policy Iteration {0} completed in {1:.2f} seconds\".format(policy_num, time.time()- policy_start))\n",
    "    \n",
    "    # policy improvement\n",
    "    if all([policy_1[tuple(s.values())] == policy[tuple(s.values())] for s in states]):\n",
    "        break\n",
    "    else:\n",
    "        policy = policy_1.copy()\n",
    "\n",
    "print(\"Finished in {0} policy iterations and {1:.2f} seconds\".format(policy_num, time.time()-start_time))"
   ]
  },
  {
   "cell_type": "code",
   "execution_count": 38,
   "metadata": {},
   "outputs": [],
   "source": [
    "result = []\n",
    "for i in range(cap+1):\n",
    "    result.append(policy[(0,0,0,0,i)])"
   ]
  },
  {
   "cell_type": "code",
   "execution_count": 39,
   "metadata": {},
   "outputs": [
    {
     "data": {
      "text/plain": [
       "Text(0,0.5,'Policy (1: send, 0: no send)')"
      ]
     },
     "execution_count": 39,
     "metadata": {},
     "output_type": "execute_result"
    },
    {
     "data": {
      "image/png": "[encoded data removed]",
      "text/plain": [
       "<Figure size 432x288 with 1 Axes>"
      ]
     },
     "metadata": {},
     "output_type": "display_data"
    }
   ],
   "source": [
    "plt.plot(range(cap+1), result)\n",
    "plt.title(\"Policy Iteration, (Capacity 2)\")\n",
    "plt.xlabel(\"State\")\n",
    "plt.ylabel(\"Policy (1: send, 0: no send)\")"
   ]
  }
 ],
 "metadata": {
  "kernelspec": {
   "display_name": "Python 3",
   "language": "python",
   "name": "python3"
  },
  "language_info": {
   "codemirror_mode": {
    "name": "ipython",
    "version": 3
   },
   "file_extension": ".py",
   "mimetype": "text/x-python",
   "name": "python",
   "nbconvert_exporter": "python",
   "pygments_lexer": "ipython3",
   "version": "3.6.5"
  }
 },
 "nbformat": 4,
 "nbformat_minor": 2
}
