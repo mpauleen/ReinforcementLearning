{
 "cells": [
  {
   "cell_type": "code",
   "execution_count": 1,
   "metadata": {
    "collapsed": true
   },
   "outputs": [],
   "source": [
    "import matplotlib.pyplot as plt\n",
    "import numpy as np"
   ]
  },
  {
   "cell_type": "code",
   "execution_count": 2,
   "metadata": {
    "collapsed": true
   },
   "outputs": [],
   "source": [
    "k = 15\n",
    "env = [1,2,3,4,5]\n",
    "c_f = 100\n",
    "c_h = 2\n",
    "y = 0.95\n",
    "cap = 200\n",
    "S = range(0,201)\n",
    "unif_dist = 1/5\n",
    "\n",
    "V_t1 = {s: 0 for s in S}\n",
    "V_t = V_t1.copy()\n",
    "\n",
    "A = [0,1]"
   ]
  },
  {
   "cell_type": "code",
   "execution_count": 3,
   "metadata": {
    "collapsed": true
   },
   "outputs": [],
   "source": [
    "def reward(s, a, c_f, c_h, k):\n",
    "    cost = (c_f*a) + \\\n",
    "            c_h*max(0,s-k*a)\n",
    "    return -cost"
   ]
  },
  {
   "cell_type": "code",
   "execution_count": 4,
   "metadata": {
    "collapsed": true
   },
   "outputs": [],
   "source": [
    "def get_next_state(s, a, k, cap, e):\n",
    "    \n",
    "    # update state for new arrivals\n",
    "    s_prime = min(s+e, cap)\n",
    "    \n",
    "    # update state for action\n",
    "    s_prime = s_prime - a*(min(k,s_prime))\n",
    "    s_prime = max(0, s_prime)\n",
    "    assert 0 <= s_prime <= 200\n",
    "    return s_prime"
   ]
  },
  {
   "cell_type": "code",
   "execution_count": 5,
   "metadata": {
    "collapsed": true
   },
   "outputs": [],
   "source": [
    "def getEV(s, a, k, cap, env, unif_dist, V_t1):\n",
    "    states = [get_next_state(s, a, k, cap, e) for e in env]\n",
    "    values = [V_t1[s]*unif_dist for s in states]\n",
    "    ev = sum(values)\n",
    "    return ev"
   ]
  },
  {
   "cell_type": "markdown",
   "metadata": {},
   "source": [
    "## Enumeration"
   ]
  },
  {
   "cell_type": "code",
   "execution_count": 6,
   "metadata": {
    "collapsed": true
   },
   "outputs": [],
   "source": [
    "for t in range(500,-1,-1):\n",
    "    for s in S:\n",
    "        V_t[s] = max([reward(s, a, c_f, c_h, k) + \\\n",
    "            y * getEV(s, a, k, cap, env, unif_dist, V_t1) for a in A])\n",
    "    V_t1 = V_t"
   ]
  },
  {
   "cell_type": "code",
   "execution_count": 7,
   "metadata": {},
   "outputs": [
    {
     "data": {
      "text/plain": [
       "Text(0,0.5,'Value')"
      ]
     },
     "execution_count": 7,
     "metadata": {},
     "output_type": "execute_result"
    },
    {
     "data": {
      "image/png": "[encoded data removed]",
      "text/plain": [
       "<Figure size 432x288 with 1 Axes>"
      ]
     },
     "metadata": {},
     "output_type": "display_data"
    }
   ],
   "source": [
    "plt.plot(V_t.keys(), V_t.values())\n",
    "plt.title(\"Value Iteration\")\n",
    "plt.xlabel(\"State\")\n",
    "plt.ylabel(\"Value\")"
   ]
  },
  {
   "cell_type": "markdown",
   "metadata": {},
   "source": [
    "## Value Iteration"
   ]
  },
  {
   "cell_type": "code",
   "execution_count": 8,
   "metadata": {
    "collapsed": true
   },
   "outputs": [],
   "source": [
    "V_t = {s: 0 for s in S}\n",
    "V_t1 = V_t.copy()\n",
    "\n",
    "theta = 1e-5\n",
    "delta = 1e6 \n",
    "while delta > theta:\n",
    "    V_t1 = V_t.copy()\n",
    "    for s in S:\n",
    "        V_t[s] = max([reward(s, a, c_f, c_h, k) + \\\n",
    "            y * getEV(s, a, k, cap, env, unif_dist, V_t1) for a in A])\n",
    "    delta = min(delta, max([V_t1[s]-V_t[s] for s in V_t.keys()]))"
   ]
  },
  {
   "cell_type": "code",
   "execution_count": 9,
   "metadata": {},
   "outputs": [
    {
     "data": {
      "text/plain": [
       "Text(0,0.5,'Value')"
      ]
     },
     "execution_count": 9,
     "metadata": {},
     "output_type": "execute_result"
    },
    {
     "data": {
      "image/png": "[encoded data removed]",
      "text/plain": [
       "<Figure size 432x288 with 1 Axes>"
      ]
     },
     "metadata": {},
     "output_type": "display_data"
    }
   ],
   "source": [
    "plt.plot(V_t.keys(), V_t.values())\n",
    "plt.title(\"Value Iteration\")\n",
    "plt.xlabel(\"State\")\n",
    "plt.ylabel(\"Value\")"
   ]
  },
  {
   "cell_type": "markdown",
   "metadata": {},
   "source": [
    "## Policy Iteration"
   ]
  },
  {
   "cell_type": "code",
   "execution_count": 8,
   "metadata": {
    "collapsed": true
   },
   "outputs": [],
   "source": [
    "best_values = {s: None for s in S}\n",
    "\n",
    "V_t = {s: 0 for s in S}\n",
    "V_t1 = V_t.copy()\n",
    "\n",
    "policy = {s: np.random.randint(2) for s in S}\n",
    "policy_1 = {s: np.random.randint(2) for s in S}\n",
    "\n",
    "theta = 1e-5\n",
    "count = 0"
   ]
  },
  {
   "cell_type": "code",
   "execution_count": null,
   "metadata": {},
   "outputs": [
    {
     "name": "stdout",
     "output_type": "stream",
     "text": [
      "46\n",
      "47\n",
      "48\n"
     ]
    }
   ],
   "source": [
    "while True:\n",
    "    # policy eval\n",
    "    delta = 1e6 \n",
    "    V_t = {s: 0 for s in S}\n",
    "    V_t1 = V_t.copy()\n",
    "    \n",
    "    while delta > theta:\n",
    "        V_t1 = V_t.copy()\n",
    "        for s in S:\n",
    "            values = [reward(s, a, c_f, c_h, k) + \\\n",
    "                y * getEV(s, a, k, cap, env, unif_dist, V_t1) for a in A]\n",
    "            V_t[s] = values[policy[s]]\n",
    "            best_values[s] = np.argmax(values)\n",
    "        delta = min(delta, max([V_t1[s]-V_t[s] for s in V_t.keys()]))\n",
    "        \n",
    "    policy_1 = best_values.copy()\n",
    "    \n",
    "    # policy improvement\n",
    "    print(count)\n",
    "    count+=1\n",
    "    if all([policy_1[s] == policy[s] for s in S]):\n",
    "        break\n",
    "    else:\n",
    "        policy = policy_1.copy()\n",
    "    "
   ]
  },
  {
   "cell_type": "code",
   "execution_count": 12,
   "metadata": {},
   "outputs": [
    {
     "data": {
      "text/plain": [
       "Text(0,0.5,'Policy (1: send, 0: no send)')"
      ]
     },
     "execution_count": 12,
     "metadata": {},
     "output_type": "execute_result"
    },
    {
     "data": {
      "image/png": "[encoded data removed]",
      "text/plain": [
       "<Figure size 432x288 with 1 Axes>"
      ]
     },
     "metadata": {},
     "output_type": "display_data"
    }
   ],
   "source": [
    "plt.plot(policy.keys(), policy.values())\n",
    "plt.title(\"Policy Iteration\")\n",
    "plt.xlabel(\"State\")\n",
    "plt.ylabel(\"Policy (1: send, 0: no send)\")"
   ]
  }
 ],
 "metadata": {
  "kernelspec": {
   "display_name": "py36-test",
   "language": "python",
   "name": "py36-test"
  },
  "language_info": {
   "codemirror_mode": {
    "name": "ipython",
    "version": 3
   },
   "file_extension": ".py",
   "mimetype": "text/x-python",
   "name": "python",
   "nbconvert_exporter": "python",
   "pygments_lexer": "ipython3",
   "version": "3.6.5"
  }
 },
 "nbformat": 4,
 "nbformat_minor": 2
}
