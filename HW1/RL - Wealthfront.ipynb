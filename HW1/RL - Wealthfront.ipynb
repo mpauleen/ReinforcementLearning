{
 "cells": [
  {
   "cell_type": "code",
   "execution_count": 1,
   "metadata": {
    "collapsed": true
   },
   "outputs": [],
   "source": [
    "import matplotlib.pyplot as plt\n",
    "import numpy as np"
   ]
  },
  {
   "cell_type": "markdown",
   "metadata": {},
   "source": [
    "## Environment Initialization\n",
    "\n",
    "- Shuttle capacity $k$: 15\n",
    "- Arrivals distribution $e \\in E$: $unif\\{1,5\\}$\n",
    "- Waiting Cost $c_h$: 2\n",
    "- Shuttle Cost $c_f$: 100\n",
    "- Discount $\\gamma$: 0,95\n",
    "- Platform Capacity $cap$: 200\n",
    "- States $s \\in S$: $[0,200]$\n",
    "- Actions $a \\in A$: [dispatch , don't dispatch]\n"
   ]
  },
  {
   "cell_type": "code",
   "execution_count": 2,
   "metadata": {
    "collapsed": true
   },
   "outputs": [],
   "source": [
    "shuttleCap = 15\n",
    "env = [1,2,3,4,5]\n",
    "shuttleCost = 100\n",
    "waitingCost = 2\n",
    "y = 0.95\n",
    "platformCap = 200\n",
    "S = range(0,201)\n",
    "unif_dist = 1/5\n",
    "\n",
    "V_t1 = {s: 0 for s in S}\n",
    "V_t = V_t1.copy()\n",
    "\n",
    "A = [0,1]"
   ]
  },
  {
   "cell_type": "markdown",
   "metadata": {},
   "source": [
    "## Calculate Action-Reward Function\n",
    "\n",
    "$R(s,a) = c_f*a + c_h*\\min(0, s-k*a)$\n"
   ]
  },
  {
   "cell_type": "code",
   "execution_count": 66,
   "metadata": {
    "collapsed": true
   },
   "outputs": [],
   "source": [
    "def reward(state, action, shuttleCost, waitingCost, shuttleCap):\n",
    "    cost = (shuttleCost*action) + \\\n",
    "            waitingCost*max(0,state-shuttleCap*action)\n",
    "    return -cost"
   ]
  },
  {
   "cell_type": "markdown",
   "metadata": {},
   "source": [
    "## Determine Next State\n",
    "\n",
    "$s'(s,a,e) = \\max[0,\\min(s+e, cap)-a*\\min(s+e, cap)]$"
   ]
  },
  {
   "cell_type": "code",
   "execution_count": 4,
   "metadata": {
    "collapsed": true
   },
   "outputs": [],
   "source": [
    "def get_next_state(state, action, shuttleCap, platformCap, e):\n",
    "    \n",
    "    # update state for new arrivals\n",
    "    s_prime = min(state+e, platformCap)\n",
    "    \n",
    "    # update state for action\n",
    "    s_prime = s_prime - action*(min(shuttleCap,s_prime))\n",
    "    s_prime = max(0, s_prime)\n",
    "    assert 0 <= s_prime <= 200\n",
    "    return s_prime"
   ]
  },
  {
   "cell_type": "markdown",
   "metadata": {},
   "source": [
    "## Estimate Action-Value\n",
    "\n",
    "$q'(a,s) = R(s,a) + \\gamma*\\frac{1}{|E|}\\sum_{e \\in E} V(s',a', e)$"
   ]
  },
  {
   "cell_type": "code",
   "execution_count": 69,
   "metadata": {
    "collapsed": true
   },
   "outputs": [],
   "source": [
    "def getEV(s, a, shuttleCap, platformCap, env, unif_dist, V_t1, y):\n",
    "    r = reward(s, a, shuttleCost, waitingCost, shuttleCap)\n",
    "    states = [get_next_state(s, a, shuttleCap, platformCap, e) for e in env]\n",
    "    future_values = [V_t1[s]*unif_dist for s in states]\n",
    "    expected_future = sum(future_values)\n",
    "    action_value = r + y*expected_future\n",
    "    \n",
    "    return action_value"
   ]
  },
  {
   "cell_type": "markdown",
   "metadata": {},
   "source": [
    "## Value Iteration\n",
    "\n",
    "The goal in value iteration is to find the optimal value for every state. From this, we can back out the optimal policy.\n",
    "\n",
    "* Iteratively update the value function\n",
    "* For each iteration $i$:\n",
    "    * Update $V_i(s)$ by calculating $V_{i-1}(s')$\n",
    "    * $V_i(s)$ is $\\max(V_{i-1}(s', a))$ for $a \\in A$\n",
    "* Repeat until $\\epsilon$ convergence\n",
    "\n",
    "When value function convergences, the policy is optimal "
   ]
  },
  {
   "cell_type": "code",
   "execution_count": 70,
   "metadata": {
    "collapsed": true
   },
   "outputs": [],
   "source": [
    "# Initialize \n",
    "V_t = {s: 0 for s in S}\n",
    "V_t1 = V_t.copy()\n",
    "policy = {s: 0 for s in S}\n",
    "\n",
    "theta = 1e-5\n",
    "delta = 1e6 \n",
    "while delta > theta:\n",
    "    V_t1 = V_t.copy()\n",
    "    for s in S:\n",
    "        # Calculate Value of each possible action for each state\n",
    "        action_values = [getEV(s, a, shuttleCap, platformCap, env, unif_dist, V_t1, y) for a in A]\n",
    "        \n",
    "        # Record the policy chosen\n",
    "        policy[s] = np.argmax(action_values)\n",
    "        \n",
    "        # Update value\n",
    "        V_t[s] = max(action_values)\n",
    "    delta = min(delta, max([V_t1[s]-V_t[s] for s in V_t.keys()]))"
   ]
  },
  {
   "cell_type": "code",
   "execution_count": 71,
   "metadata": {},
   "outputs": [
    {
     "data": {
      "text/plain": [
       "Text(0,0.5,'Value')"
      ]
     },
     "execution_count": 71,
     "metadata": {},
     "output_type": "execute_result"
    },
    {
     "data": {
      "image/png": "[encoded data removed]",
      "text/plain": [
       "<Figure size 432x288 with 1 Axes>"
      ]
     },
     "metadata": {},
     "output_type": "display_data"
    }
   ],
   "source": [
    "plt.plot(V_t.keys(), V_t.values())\n",
    "plt.title(\"Value Iteration\")\n",
    "plt.xlabel(\"State\")\n",
    "plt.ylabel(\"Value\")"
   ]
  },
  {
   "cell_type": "code",
   "execution_count": 60,
   "metadata": {},
   "outputs": [
    {
     "data": {
      "text/plain": [
       "Text(0,0.5,'Policy')"
      ]
     },
     "execution_count": 60,
     "metadata": {},
     "output_type": "execute_result"
    },
    {
     "data": {
      "image/png": "[encoded data removed]",
      "text/plain": [
       "<Figure size 432x288 with 1 Axes>"
      ]
     },
     "metadata": {},
     "output_type": "display_data"
    }
   ],
   "source": [
    "plt.plot(policy.keys(), policy.values())\n",
    "plt.title(\"Value Iteration: Policy\")\n",
    "plt.xlabel(\"State\")\n",
    "plt.ylabel(\"Policy\")"
   ]
  },
  {
   "cell_type": "markdown",
   "metadata": {},
   "source": [
    "## Policy Iteration\n",
    "\n",
    "Cycle of:\n",
    "- Policy Evaluation\n",
    "- Policy Improvement (greedy selection)\n",
    "\n",
    "Terminates when policy no longer updates"
   ]
  },
  {
   "cell_type": "code",
   "execution_count": 61,
   "metadata": {
    "collapsed": true
   },
   "outputs": [],
   "source": [
    "best_values = {s: None for s in S}\n",
    "\n",
    "V_t = {s: 0 for s in S}\n",
    "\n",
    "policy = {s: np.random.randint(2) for s in S}\n",
    "policy_1 = {s: np.random.randint(2) for s in S}\n",
    "\n",
    "count = 0"
   ]
  },
  {
   "cell_type": "code",
   "execution_count": 73,
   "metadata": {},
   "outputs": [
    {
     "name": "stdout",
     "output_type": "stream",
     "text": [
      "Iteration: 18\n"
     ]
    }
   ],
   "source": [
    "while True:\n",
    "    \n",
    "    # Policy Evaluation\n",
    "    for s in S:\n",
    "        action_values = [getEV(s, a, shuttleCap, platformCap, env, unif_dist, V_t, y) for a in A]\n",
    "        \n",
    "        # Calculate the value function for the given policy\n",
    "        V_t[s] = action_values[policy[s]]\n",
    "\n",
    "        # Store the policy with the best estimated value\n",
    "        best_values[s] = np.argmax(action_values)\n",
    "    \n",
    "    # Policy Improvement\n",
    "    ## Update policy with current best policy\n",
    "    policy_1 = best_values.copy()\n",
    "    \n",
    "    print(\"Iteration:\", count)\n",
    "    count+=1\n",
    "    \n",
    "    # Check if the policy has converged,\n",
    "    # If not, update the policy\n",
    "    if all([policy_1[s] == policy[s] for s in S]):\n",
    "        break\n",
    "    else:\n",
    "        policy = policy_1.copy()"
   ]
  },
  {
   "cell_type": "code",
   "execution_count": 53,
   "metadata": {},
   "outputs": [
    {
     "data": {
      "text/plain": [
       "Text(0,0.5,'Policy (1: send, 0: no send)')"
      ]
     },
     "execution_count": 53,
     "metadata": {},
     "output_type": "execute_result"
    },
    {
     "data": {
      "image/png": "[encoded data removed]",
      "text/plain": [
       "<Figure size 432x288 with 1 Axes>"
      ]
     },
     "metadata": {},
     "output_type": "display_data"
    }
   ],
   "source": [
    "plt.plot(policy.keys(), policy.values())\n",
    "plt.title(\"Policy Iteration: Policy\")\n",
    "plt.xlabel(\"State\")\n",
    "plt.ylabel(\"Policy (1: send, 0: no send)\")"
   ]
  },
  {
   "cell_type": "code",
   "execution_count": 57,
   "metadata": {},
   "outputs": [
    {
     "data": {
      "text/plain": [
       "Text(0,0.5,'Estimated Value')"
      ]
     },
     "execution_count": 57,
     "metadata": {},
     "output_type": "execute_result"
    },
    {
     "data": {
      "image/png": "[encoded data removed]",
      "text/plain": [
       "<Figure size 432x288 with 1 Axes>"
      ]
     },
     "metadata": {},
     "output_type": "display_data"
    }
   ],
   "source": [
    "plt.plot(policy.keys(), V_t.values())\n",
    "plt.title(\"Policy Iteration\")\n",
    "plt.xlabel(\"State\")\n",
    "plt.ylabel(\"Estimated Value\")"
   ]
  },
  {
   "cell_type": "code",
   "execution_count": null,
   "metadata": {
    "collapsed": true
   },
   "outputs": [],
   "source": []
  }
 ],
 "metadata": {
  "kernelspec": {
   "display_name": "py36-test",
   "language": "python",
   "name": "py36-test"
  },
  "language_info": {
   "codemirror_mode": {
    "name": "ipython",
    "version": 3
   },
   "file_extension": ".py",
   "mimetype": "text/x-python",
   "name": "python",
   "nbconvert_exporter": "python",
   "pygments_lexer": "ipython3",
   "version": "3.6.5"
  }
 },
 "nbformat": 4,
 "nbformat_minor": 2
}
